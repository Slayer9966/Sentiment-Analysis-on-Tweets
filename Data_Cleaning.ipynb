{
 "cells": [
  {
   "cell_type": "code",
   "execution_count": 3,
   "id": "3060e926-c455-48aa-a5e0-f6857776f646",
   "metadata": {},
   "outputs": [],
   "source": [
    "import pandas as pd\n",
    "import re"
   ]
  },
  {
   "cell_type": "code",
   "execution_count": 5,
   "id": "750d594e-a281-4783-9dae-b86bf992bc7a",
   "metadata": {},
   "outputs": [],
   "source": [
    "df = pd.read_csv(\"Data.csv\", header=None, encoding=\"ISO-8859-1\")\n",
    "\n",
    "# Rename columns for easier handling\n",
    "df.columns = [\"target\", \"id\", \"date\", \"flag\", \"user\", \"text\"]\n",
    "\n",
    "# Step 1: Check for missing values in each column\n",
    "missing_values = df.isnull().sum()\n",
    "print(\"Missing values:\\n\", missing_values)"
   ]
  },
  {
   "cell_type": "code",
   "execution_count": 15,
   "id": "189958c9-6532-4804-8126-97f54606833e",
   "metadata": {
    "scrolled": true
   },
   "outputs": [
    {
     "data": {
      "text/html": [
       "<div>\n",
       "<style scoped>\n",
       "    .dataframe tbody tr th:only-of-type {\n",
       "        vertical-align: middle;\n",
       "    }\n",
       "\n",
       "    .dataframe tbody tr th {\n",
       "        vertical-align: top;\n",
       "    }\n",
       "\n",
       "    .dataframe thead th {\n",
       "        text-align: right;\n",
       "    }\n",
       "</style>\n",
       "<table border=\"1\" class=\"dataframe\">\n",
       "  <thead>\n",
       "    <tr style=\"text-align: right;\">\n",
       "      <th></th>\n",
       "      <th>0</th>\n",
       "      <th>1</th>\n",
       "      <th>2</th>\n",
       "      <th>3</th>\n",
       "      <th>4</th>\n",
       "      <th>5</th>\n",
       "      <th>6</th>\n",
       "      <th>7</th>\n",
       "      <th>8</th>\n",
       "    </tr>\n",
       "  </thead>\n",
       "  <tbody>\n",
       "    <tr>\n",
       "      <th>0</th>\n",
       "      <td>title</td>\n",
       "      <td>score</td>\n",
       "      <td>id</td>\n",
       "      <td>url</td>\n",
       "      <td>comms_num</td>\n",
       "      <td>created</td>\n",
       "      <td>body</td>\n",
       "      <td>year-month-day</td>\n",
       "      <td>hour-min-sec</td>\n",
       "    </tr>\n",
       "    <tr>\n",
       "      <th>1</th>\n",
       "      <td>Monkeypox may be on its way to a school near you</td>\n",
       "      <td>101</td>\n",
       "      <td>wtgjsb</td>\n",
       "      <td>https://thehill.com/opinion/healthcare/3607622...</td>\n",
       "      <td>33</td>\n",
       "      <td>1661026996</td>\n",
       "      <td>NaN</td>\n",
       "      <td>2022-08-21</td>\n",
       "      <td>4:23:16</td>\n",
       "    </tr>\n",
       "    <tr>\n",
       "      <th>2</th>\n",
       "      <td>Purpose of Home Disinfection</td>\n",
       "      <td>29</td>\n",
       "      <td>wt923l</td>\n",
       "      <td>https://www.cdc.gov/poxvirus/monkeypox/specifi...</td>\n",
       "      <td>18</td>\n",
       "      <td>1661007372</td>\n",
       "      <td>NaN</td>\n",
       "      <td>2022-08-20</td>\n",
       "      <td>22:56:12</td>\n",
       "    </tr>\n",
       "    <tr>\n",
       "      <th>3</th>\n",
       "      <td>Lack of âhigh qualityâ clinical guidelines...</td>\n",
       "      <td>45</td>\n",
       "      <td>wsu8pe</td>\n",
       "      <td>https://thehill.com/changing-america/well-bein...</td>\n",
       "      <td>2</td>\n",
       "      <td>1660957502</td>\n",
       "      <td>NaN</td>\n",
       "      <td>2022-08-20</td>\n",
       "      <td>9:05:02</td>\n",
       "    </tr>\n",
       "    <tr>\n",
       "      <th>4</th>\n",
       "      <td>California issues monkeypox quarantine guidelines</td>\n",
       "      <td>135</td>\n",
       "      <td>wsn73d</td>\n",
       "      <td>https://www.kron4.com/monkeypox/california-iss...</td>\n",
       "      <td>31</td>\n",
       "      <td>1660938749</td>\n",
       "      <td>NaN</td>\n",
       "      <td>2022-08-20</td>\n",
       "      <td>3:52:29</td>\n",
       "    </tr>\n",
       "  </tbody>\n",
       "</table>\n",
       "</div>"
      ],
      "text/plain": [
       "                                                   0      1       2  \\\n",
       "0                                              title  score      id   \n",
       "1   Monkeypox may be on its way to a school near you    101  wtgjsb   \n",
       "2                       Purpose of Home Disinfection     29  wt923l   \n",
       "3  Lack of âhigh qualityâ clinical guidelines...     45  wsu8pe   \n",
       "4  California issues monkeypox quarantine guidelines    135  wsn73d   \n",
       "\n",
       "                                                   3          4           5  \\\n",
       "0                                                url  comms_num     created   \n",
       "1  https://thehill.com/opinion/healthcare/3607622...         33  1661026996   \n",
       "2  https://www.cdc.gov/poxvirus/monkeypox/specifi...         18  1661007372   \n",
       "3  https://thehill.com/changing-america/well-bein...          2  1660957502   \n",
       "4  https://www.kron4.com/monkeypox/california-iss...         31  1660938749   \n",
       "\n",
       "      6               7             8  \n",
       "0  body  year-month-day  hour-min-sec  \n",
       "1   NaN      2022-08-21       4:23:16  \n",
       "2   NaN      2022-08-20      22:56:12  \n",
       "3   NaN      2022-08-20       9:05:02  \n",
       "4   NaN      2022-08-20       3:52:29  "
      ]
     },
     "execution_count": 15,
     "metadata": {},
     "output_type": "execute_result"
    }
   ],
   "source": [
    "df.head()"
   ]
  },
  {
   "cell_type": "code",
   "execution_count": 5,
   "id": "bfbfcc96-46a9-4baf-8139-f4a293c9fab4",
   "metadata": {},
   "outputs": [],
   "source": [
    "df = df.dropna()\n",
    "\n",
    "# Step 3: Remove duplicates (if any)\n",
    "df = df.drop_duplicates()\n",
    "\n",
    "# Step 4: Fix incorrect data types\n",
    "df[\"target\"] = df[\"target\"].astype(int)  # Assuming target should be an integer\n",
    "df[\"id\"] = df[\"id\"].astype('int64')  # Assuming id should be an integer\n",
    "\n",
    "# Step 5: Convert 'date' column to datetime\n",
    "df[\"date\"] = pd.to_datetime(df[\"date\"], format=\"%a %b %d %H:%M:%S PDT %Y\", errors='coerce')\n",
    "\n",
    "# Step 6: Drop unnecessary columns\n",
    "df = df.drop(columns=[\"flag\"])"
   ]
  },
  {
   "cell_type": "code",
   "execution_count": 7,
   "id": "947b6a49-456b-4719-8f48-ab99b99ca092",
   "metadata": {},
   "outputs": [],
   "source": [
    "def clean_text(text):\n",
    "    text = re.sub(r'http\\S+', '', text)  # Remove URLs\n",
    "    text = re.sub(r'[^a-zA-Z\\s]', '', text)  # Remove non-alphabet characters\n",
    "    return text.lower()  # Convert to lowercase"
   ]
  },
  {
   "cell_type": "code",
   "execution_count": 9,
   "id": "4692f030-7d23-4c0a-8100-262fc8304563",
   "metadata": {},
   "outputs": [
    {
     "name": "stdout",
     "output_type": "stream",
     "text": [
      "Cleaned DataFrame (first 5 rows):\n",
      "    target          id                date             user  \\\n",
      "0       0  1467810369 2009-04-06 22:19:45  _TheSpecialOne_   \n",
      "1       0  1467810672 2009-04-06 22:19:49    scotthamilton   \n",
      "2       0  1467810917 2009-04-06 22:19:53         mattycus   \n",
      "3       0  1467811184 2009-04-06 22:19:57          ElleCTF   \n",
      "4       0  1467811193 2009-04-06 22:19:57           Karoli   \n",
      "\n",
      "                                                text  \n",
      "0  switchfoot   awww thats a bummer  you shoulda ...  \n",
      "1  is upset that he cant update his facebook by t...  \n",
      "2  kenichan i dived many times for the ball manag...  \n",
      "3    my whole body feels itchy and like its on fire   \n",
      "4  nationwideclass no its not behaving at all im ...  \n"
     ]
    }
   ],
   "source": [
    "# Apply the text cleaning function to the 'text' column\n",
    "df[\"text\"] = df[\"text\"].apply(clean_text)\n",
    "\n",
    "# Step 8: Remove rows where the 'text' column is empty\n",
    "df = df[df[\"text\"].str.strip() != \"\"]\n",
    "\n",
    "# Step 9: Check the cleaned dataset\n",
    "print(\"Cleaned DataFrame (first 5 rows):\\n\", df.head())"
   ]
  },
  {
   "cell_type": "code",
   "execution_count": 11,
   "id": "ee1a6ce1-2dab-4099-9a60-3bd57963fc1d",
   "metadata": {},
   "outputs": [],
   "source": [
    "df.to_csv(\"Cleaned_Data.csv\", index=False)\n"
   ]
  },
  {
   "cell_type": "code",
   "execution_count": 35,
   "id": "dd2d0196-40ed-43a3-9544-542634fbf3be",
   "metadata": {},
   "outputs": [],
   "source": []
  },
  {
   "cell_type": "code",
   "execution_count": 39,
   "id": "8c433dab-ae35-471c-8f31-fa638a33df3b",
   "metadata": {},
   "outputs": [],
   "source": []
  },
  {
   "cell_type": "code",
   "execution_count": 41,
   "id": "6072060d-65c5-4576-95e1-d7233f23e065",
   "metadata": {},
   "outputs": [],
   "source": []
  },
  {
   "cell_type": "code",
   "execution_count": 61,
   "id": "562bc3e2-4cd0-461c-a94b-f4c3b15916cf",
   "metadata": {},
   "outputs": [],
   "source": []
  },
  {
   "cell_type": "code",
   "execution_count": 67,
   "id": "6cc8165c-6974-40b8-8cd2-87c6e11282ea",
   "metadata": {},
   "outputs": [
    {
     "ename": "AttributeError",
     "evalue": "'Expr' object has no attribute 'apply'",
     "output_type": "error",
     "traceback": [
      "\u001b[1;31m---------------------------------------------------------------------------\u001b[0m",
      "\u001b[1;31mAttributeError\u001b[0m                            Traceback (most recent call last)",
      "Cell \u001b[1;32mIn[67], line 2\u001b[0m\n\u001b[0;32m      1\u001b[0m df \u001b[38;5;241m=\u001b[39m df\u001b[38;5;241m.\u001b[39mwith_columns(\n\u001b[1;32m----> 2\u001b[0m     pl\u001b[38;5;241m.\u001b[39mcol(\u001b[38;5;124m\"\u001b[39m\u001b[38;5;124mtext\u001b[39m\u001b[38;5;124m\"\u001b[39m)\u001b[38;5;241m.\u001b[39mapply(clean_text, return_dtype\u001b[38;5;241m=\u001b[39mpl\u001b[38;5;241m.\u001b[39mUtf8)\u001b[38;5;241m.\u001b[39malias(\u001b[38;5;124m\"\u001b[39m\u001b[38;5;124mtext\u001b[39m\u001b[38;5;124m\"\u001b[39m)\n\u001b[0;32m      3\u001b[0m )\n\u001b[0;32m      5\u001b[0m \u001b[38;5;66;03m# Step 8: Remove rows where the 'text' column is empty\u001b[39;00m\n\u001b[0;32m      6\u001b[0m df \u001b[38;5;241m=\u001b[39m df\u001b[38;5;241m.\u001b[39mfilter(pl\u001b[38;5;241m.\u001b[39mcol(\u001b[38;5;124m\"\u001b[39m\u001b[38;5;124mtext\u001b[39m\u001b[38;5;124m\"\u001b[39m)\u001b[38;5;241m.\u001b[39mstr\u001b[38;5;241m.\u001b[39mstrip() \u001b[38;5;241m!=\u001b[39m \u001b[38;5;124m\"\u001b[39m\u001b[38;5;124m\"\u001b[39m)\n",
      "\u001b[1;31mAttributeError\u001b[0m: 'Expr' object has no attribute 'apply'"
     ]
    }
   ],
   "source": []
  },
  {
   "cell_type": "code",
   "execution_count": null,
   "id": "4d58c0eb-7935-472b-92c0-7618dcb11676",
   "metadata": {},
   "outputs": [],
   "source": [
    "\n"
   ]
  },
  {
   "cell_type": "code",
   "execution_count": null,
   "id": "ae8c45e1-e5fd-4cb2-a77a-9b0731c5f27a",
   "metadata": {},
   "outputs": [],
   "source": []
  },
  {
   "cell_type": "code",
   "execution_count": null,
   "id": "a0127d36-b38a-42d8-b5e2-59d6317c7f11",
   "metadata": {},
   "outputs": [],
   "source": []
  }
 ],
 "metadata": {
  "kernelspec": {
   "display_name": "Python [conda env:base] *",
   "language": "python",
   "name": "conda-base-py"
  },
  "language_info": {
   "codemirror_mode": {
    "name": "ipython",
    "version": 3
   },
   "file_extension": ".py",
   "mimetype": "text/x-python",
   "name": "python",
   "nbconvert_exporter": "python",
   "pygments_lexer": "ipython3",
   "version": "3.12.7"
  }
 },
 "nbformat": 4,
 "nbformat_minor": 5
}
