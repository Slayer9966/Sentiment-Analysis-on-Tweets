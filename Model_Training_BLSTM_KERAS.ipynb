{
 "cells": [
  {
   "cell_type": "code",
   "execution_count": 80,
   "id": "8b74a75a-fbb6-41a2-b1a0-d5865ba160fd",
   "metadata": {},
   "outputs": [],
   "source": [
    "import pandas as pd\n",
    "import pickle\n",
    "import numpy as np\n",
    "import tensorflow as tf\n",
    "from tensorflow.keras import layers, models\n",
    "from sklearn.model_selection import train_test_split\n",
    "from sklearn.metrics import classification_report\n",
    "import keras_tuner as kt\n"
   ]
  },
  {
   "cell_type": "code",
   "execution_count": 20,
   "id": "63b370c8-3bab-4e21-b9e9-2a98d72b05ba",
   "metadata": {},
   "outputs": [],
   "source": [
    "# Set up TensorFlow to use CPU\n",
    "physical_devices = tf.config.list_physical_devices('CPU')\n",
    "tf.config.set_visible_devices(physical_devices, 'CPU')"
   ]
  },
  {
   "cell_type": "code",
   "execution_count": 30,
   "id": "886b5f62-b1ff-4b7c-bfac-bc37c82e209c",
   "metadata": {},
   "outputs": [],
   "source": [
    "df = pd.read_csv('Cleaned_Data.csv')\n",
    "\n"
   ]
  },
  {
   "cell_type": "code",
   "execution_count": 36,
   "id": "1307a8df-23f8-49e8-8e5a-7205605431b4",
   "metadata": {},
   "outputs": [],
   "source": [
    "# Assuming 'text' and 'labels' columns in the dataset\n",
    "texts = df['text'].values\n",
    "labels = df['target'].values  # Adjust to your target column\n"
   ]
  },
  {
   "cell_type": "code",
   "execution_count": 38,
   "id": "b8bd9c89-d637-4e5e-a7f5-73f14e0a330f",
   "metadata": {},
   "outputs": [
    {
     "name": "stdout",
     "output_type": "stream",
     "text": [
      "Embeddings shape: (1600000, 768)\n",
      "Labels shape: (1600000,)\n"
     ]
    }
   ],
   "source": [
    "with open('bert_embeddings.pkl', 'rb') as f:\n",
    "    bert_embeddings = pickle.load(f)\n",
    "\n",
    "# Check the embeddings shape to confirm they match your dataset\n",
    "print(f\"Embeddings shape: {bert_embeddings.shape}\")\n",
    "print(f\"Labels shape: {labels.shape}\")"
   ]
  },
  {
   "cell_type": "code",
   "execution_count": 40,
   "id": "1f77715f-9bed-444c-9ced-03bfca9d8abd",
   "metadata": {},
   "outputs": [],
   "source": [
    "assert len(bert_embeddings) == len(df), \"Embeddings and dataset length mismatch!\""
   ]
  },
  {
   "cell_type": "code",
   "execution_count": 86,
   "id": "0abab2c1-557a-4e0d-a96d-e6046f3687e7",
   "metadata": {},
   "outputs": [],
   "source": [
    "# 3. Ensure labels are in a numpy array format\n",
    "y = labels  # Target labels\n",
    "x = bert_embeddings  # Features from BERT embeddings"
   ]
  },
  {
   "cell_type": "code",
   "execution_count": 88,
   "id": "daaa93df-c503-416f-9f8a-734c5e089bdd",
   "metadata": {},
   "outputs": [],
   "source": [
    "x_train, x_test, y_train, y_test = train_test_split(\n",
    "    bert_embeddings, \n",
    "    labels, \n",
    "    test_size=0.2,  # 20% for testing\n",
    "    random_state=42\n",
    ")"
   ]
  },
  {
   "cell_type": "code",
   "execution_count": 90,
   "id": "6d757518-7551-4c3d-9ba5-0c485102649f",
   "metadata": {},
   "outputs": [],
   "source": [
    "x_train, x_val, y_train, y_val = train_test_split(\n",
    "    x_train, \n",
    "    y_train, \n",
    "    test_size=0.2,  # 20% for validation (20% of the 80% training set, so 16% of total data)\n",
    "    random_state=42\n",
    ")\n"
   ]
  },
  {
   "cell_type": "code",
   "execution_count": 92,
   "id": "927a3572-c097-44cf-a8bc-c994c36b3fd3",
   "metadata": {},
   "outputs": [],
   "source": []
  },
  {
   "cell_type": "code",
   "execution_count": 98,
   "id": "cdb5c85a-d768-4f70-9465-9fd5e1ad414b",
   "metadata": {},
   "outputs": [],
   "source": [
    "def build_model(hp):\n",
    "    model = models.Sequential([\n",
    "        layers.InputLayer(input_shape=(bert_embeddings.shape[1],)),  # Input layer with the shape of BERT embeddings (768,)\n",
    "        layers.Reshape((1, bert_embeddings.shape[1])),  # Reshape to (1, 768) for compatibility with LSTM\n",
    "        layers.Bidirectional(layers.LSTM(\n",
    "            units=hp.Int('lstm_units', min_value=64, max_value=256, step=64), \n",
    "            return_sequences=False\n",
    "        )),\n",
    "        layers.Dense(\n",
    "            hp.Int('dense_units', min_value=32, max_value=128, step=32),\n",
    "            activation='relu'\n",
    "        ),\n",
    "        layers.Dense(1, activation='sigmoid')  # Output layer for binary classification\n",
    "    ])\n",
    "\n",
    "    model.compile(\n",
    "        optimizer=hp.Choice('optimizer', values=['adam', 'rmsprop']),\n",
    "        loss='binary_crossentropy',\n",
    "        metrics=['accuracy']\n",
    "    )\n",
    "\n",
    "    return model"
   ]
  },
  {
   "cell_type": "code",
   "execution_count": 100,
   "id": "47f3ce8b-d992-423f-bbac-f806faf2069e",
   "metadata": {},
   "outputs": [
    {
     "name": "stderr",
     "output_type": "stream",
     "text": [
      "C:\\Users\\faiza\\anaconda3\\Lib\\site-packages\\keras\\src\\layers\\core\\input_layer.py:27: UserWarning: Argument `input_shape` is deprecated. Use `shape` instead.\n",
      "  warnings.warn(\n"
     ]
    }
   ],
   "source": [
    "tuner = kt.Hyperband(\n",
    "    build_model,\n",
    "    objective='val_accuracy',  # Optimize validation accuracy\n",
    "    max_epochs=10,\n",
    "    hyperband_iterations=2,\n",
    "    directory='tuner_dir',\n",
    "    project_name='blstm_tuning'\n",
    ")\n"
   ]
  },
  {
   "cell_type": "code",
   "execution_count": 102,
   "id": "c7ee8c89-3497-4b7e-814e-d25c93f79fe0",
   "metadata": {},
   "outputs": [
    {
     "name": "stdout",
     "output_type": "stream",
     "text": [
      "Trial 40 Complete [00h 07m 13s]\n",
      "val_accuracy: 0.7942500114440918\n",
      "\n",
      "Best val_accuracy So Far: 0.7996992468833923\n",
      "Total elapsed time: 06h 01m 50s\n"
     ]
    }
   ],
   "source": [
    "tuner.search(x_train, y_train, epochs=10, validation_data=(x_val, y_val))\n"
   ]
  },
  {
   "cell_type": "code",
   "execution_count": 104,
   "id": "4057f1db-0068-402c-b067-e68eb3631cb8",
   "metadata": {},
   "outputs": [
    {
     "name": "stderr",
     "output_type": "stream",
     "text": [
      "C:\\Users\\faiza\\anaconda3\\Lib\\site-packages\\keras\\src\\layers\\core\\input_layer.py:27: UserWarning: Argument `input_shape` is deprecated. Use `shape` instead.\n",
      "  warnings.warn(\n",
      "C:\\Users\\faiza\\anaconda3\\Lib\\site-packages\\keras\\src\\saving\\saving_lib.py:757: UserWarning: Skipping variable loading for optimizer 'adam', because it has 2 variables whereas the saved optimizer has 22 variables. \n",
      "  saveable.load_own_variables(weights_store.get(inner_path))\n"
     ]
    },
    {
     "name": "stdout",
     "output_type": "stream",
     "text": [
      "10000/10000 - 20s - 2ms/step - accuracy: 0.8004 - loss: 0.4283\n",
      "Test accuracy: 0.8003906011581421\n"
     ]
    }
   ],
   "source": [
    "best_model = tuner.get_best_models(num_models=1)[0]\n",
    "\n",
    "# Evaluate the model on the test set\n",
    "test_loss, test_acc = best_model.evaluate(x_test, y_test, verbose=2)\n",
    "print(f\"Test accuracy: {test_acc}\")"
   ]
  },
  {
   "cell_type": "code",
   "execution_count": 106,
   "id": "124ba8b5-f110-422d-a80a-72b19a5a0cab",
   "metadata": {},
   "outputs": [
    {
     "name": "stdout",
     "output_type": "stream",
     "text": [
      "\u001b[1m10000/10000\u001b[0m \u001b[32m━━━━━━━━━━━━━━━━━━━━\u001b[0m\u001b[37m\u001b[0m \u001b[1m18s\u001b[0m 2ms/step\n",
      "Classification Report:\n",
      "              precision    recall  f1-score   support\n",
      "\n",
      "           0       0.80      0.80      0.80    159494\n",
      "           1       0.80      0.80      0.80    160506\n",
      "\n",
      "    accuracy                           0.80    320000\n",
      "   macro avg       0.80      0.80      0.80    320000\n",
      "weighted avg       0.80      0.80      0.80    320000\n",
      "\n"
     ]
    }
   ],
   "source": [
    "# Predict on test set\n",
    "y_pred = best_model.predict(x_test)\n",
    "y_pred = (y_pred > 0.5).astype('int32')  # Convert probabilities to binary labels\n",
    "\n",
    "# Print the classification report\n",
    "print(\"Classification Report:\")\n",
    "print(classification_report(y_test, y_pred))"
   ]
  },
  {
   "cell_type": "code",
   "execution_count": 112,
   "id": "540664b1-7760-4d3d-a1d3-1b87e974e496",
   "metadata": {},
   "outputs": [],
   "source": [
    "best_model.save('best_bilstm_model.keras')\n"
   ]
  },
  {
   "cell_type": "code",
   "execution_count": 70,
   "id": "bacb9f79-3053-42f3-aa3e-66db98e13c7c",
   "metadata": {},
   "outputs": [
    {
     "name": "stdout",
     "output_type": "stream",
     "text": [
      "Epoch 1/10\n",
      "\u001b[1m30000/30000\u001b[0m \u001b[32m━━━━━━━━━━━━━━━━━━━━\u001b[0m\u001b[37m\u001b[0m \u001b[1m75s\u001b[0m 2ms/step - accuracy: 0.7735 - loss: 0.4727 - val_accuracy: 0.7919 - val_loss: 0.4440\n",
      "Epoch 2/10\n",
      "\u001b[1m30000/30000\u001b[0m \u001b[32m━━━━━━━━━━━━━━━━━━━━\u001b[0m\u001b[37m\u001b[0m \u001b[1m75s\u001b[0m 3ms/step - accuracy: 0.7903 - loss: 0.4445 - val_accuracy: 0.7922 - val_loss: 0.4427\n",
      "Epoch 3/10\n",
      "\u001b[1m30000/30000\u001b[0m \u001b[32m━━━━━━━━━━━━━━━━━━━━\u001b[0m\u001b[37m\u001b[0m \u001b[1m74s\u001b[0m 2ms/step - accuracy: 0.7946 - loss: 0.4379 - val_accuracy: 0.7944 - val_loss: 0.4382\n",
      "Epoch 4/10\n",
      "\u001b[1m30000/30000\u001b[0m \u001b[32m━━━━━━━━━━━━━━━━━━━━\u001b[0m\u001b[37m\u001b[0m \u001b[1m77s\u001b[0m 3ms/step - accuracy: 0.7979 - loss: 0.4321 - val_accuracy: 0.7956 - val_loss: 0.4361\n",
      "Epoch 5/10\n",
      "\u001b[1m30000/30000\u001b[0m \u001b[32m━━━━━━━━━━━━━━━━━━━━\u001b[0m\u001b[37m\u001b[0m \u001b[1m74s\u001b[0m 2ms/step - accuracy: 0.7996 - loss: 0.4280 - val_accuracy: 0.7921 - val_loss: 0.4430\n",
      "Epoch 6/10\n",
      "\u001b[1m30000/30000\u001b[0m \u001b[32m━━━━━━━━━━━━━━━━━━━━\u001b[0m\u001b[37m\u001b[0m \u001b[1m74s\u001b[0m 2ms/step - accuracy: 0.8014 - loss: 0.4261 - val_accuracy: 0.7980 - val_loss: 0.4329\n",
      "Epoch 7/10\n",
      "\u001b[1m30000/30000\u001b[0m \u001b[32m━━━━━━━━━━━━━━━━━━━━\u001b[0m\u001b[37m\u001b[0m \u001b[1m74s\u001b[0m 2ms/step - accuracy: 0.8042 - loss: 0.4217 - val_accuracy: 0.7985 - val_loss: 0.4324\n",
      "Epoch 8/10\n",
      "\u001b[1m30000/30000\u001b[0m \u001b[32m━━━━━━━━━━━━━━━━━━━━\u001b[0m\u001b[37m\u001b[0m \u001b[1m75s\u001b[0m 2ms/step - accuracy: 0.8054 - loss: 0.4187 - val_accuracy: 0.7995 - val_loss: 0.4319\n",
      "Epoch 9/10\n",
      "\u001b[1m30000/30000\u001b[0m \u001b[32m━━━━━━━━━━━━━━━━━━━━\u001b[0m\u001b[37m\u001b[0m \u001b[1m75s\u001b[0m 3ms/step - accuracy: 0.8065 - loss: 0.4163 - val_accuracy: 0.7987 - val_loss: 0.4319\n",
      "Epoch 10/10\n",
      "\u001b[1m30000/30000\u001b[0m \u001b[32m━━━━━━━━━━━━━━━━━━━━\u001b[0m\u001b[37m\u001b[0m \u001b[1m76s\u001b[0m 3ms/step - accuracy: 0.8076 - loss: 0.4150 - val_accuracy: 0.7990 - val_loss: 0.4312\n"
     ]
    },
    {
     "data": {
      "text/plain": [
       "<keras.src.callbacks.history.History at 0x1af6e4c7fe0>"
      ]
     },
     "execution_count": 70,
     "metadata": {},
     "output_type": "execute_result"
    }
   ],
   "source": []
  },
  {
   "cell_type": "code",
   "execution_count": 72,
   "id": "6f67dacc-a60a-4f75-8204-ee50dbb666e5",
   "metadata": {},
   "outputs": [
    {
     "name": "stdout",
     "output_type": "stream",
     "text": [
      "\u001b[1m10000/10000\u001b[0m \u001b[32m━━━━━━━━━━━━━━━━━━━━\u001b[0m\u001b[37m\u001b[0m \u001b[1m9s\u001b[0m 865us/step - accuracy: 0.7994 - loss: 0.4312\n",
      "Test Loss: 0.4318515658378601\n",
      "Test Accuracy: 0.7991218566894531\n"
     ]
    }
   ],
   "source": []
  },
  {
   "cell_type": "code",
   "execution_count": 74,
   "id": "28b56f94-157d-481b-9a93-ac4969ad441f",
   "metadata": {},
   "outputs": [
    {
     "name": "stdout",
     "output_type": "stream",
     "text": [
      "\u001b[1m10000/10000\u001b[0m \u001b[32m━━━━━━━━━━━━━━━━━━━━\u001b[0m\u001b[37m\u001b[0m \u001b[1m7s\u001b[0m 656us/step\n"
     ]
    }
   ],
   "source": []
  },
  {
   "cell_type": "code",
   "execution_count": 76,
   "id": "60226126-24e8-4b54-96b2-e953a4089c2c",
   "metadata": {},
   "outputs": [
    {
     "name": "stdout",
     "output_type": "stream",
     "text": [
      "\n",
      "Classification Report:\n",
      "              precision    recall  f1-score   support\n",
      "\n",
      "           0       0.79      0.81      0.80    159790\n",
      "           1       0.80      0.79      0.80    160210\n",
      "\n",
      "    accuracy                           0.80    320000\n",
      "   macro avg       0.80      0.80      0.80    320000\n",
      "weighted avg       0.80      0.80      0.80    320000\n",
      "\n"
     ]
    }
   ],
   "source": []
  },
  {
   "cell_type": "code",
   "execution_count": null,
   "id": "e53ecfb0-69ab-4f11-8ca8-de4e24778e36",
   "metadata": {},
   "outputs": [],
   "source": []
  }
 ],
 "metadata": {
  "kernelspec": {
   "display_name": "Python [conda env:base] *",
   "language": "python",
   "name": "conda-base-py"
  },
  "language_info": {
   "codemirror_mode": {
    "name": "ipython",
    "version": 3
   },
   "file_extension": ".py",
   "mimetype": "text/x-python",
   "name": "python",
   "nbconvert_exporter": "python",
   "pygments_lexer": "ipython3",
   "version": "3.12.7"
  }
 },
 "nbformat": 4,
 "nbformat_minor": 5
}
